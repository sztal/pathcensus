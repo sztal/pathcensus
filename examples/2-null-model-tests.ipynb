{
 "cells": [
  {
   "cell_type": "markdown",
   "metadata": {},
   "source": [
    "# Introduction\n",
    "\n",
    "In this notebook we present a set of basic tests of the implementations\n",
    "of null models provided by `pathcensus` package. All the null models\n",
    "are also tested against an automated suite of unit test, but we additionally\n",
    "provide the below examples as the notebook format is argurably much easier\n",
    "to follow. We use  `igraph` package to generate graphs.\n",
    "\n",
    "We defined all models following the formulas and terminology introduced in:\n",
    "\n",
    "> [1] Squartini, T., Mastrandrea, R., & Garlaschelli, D. (2015). \n",
    "> Unbiased sampling of network ensembles. \n",
    "> New Journal of Physics, 17(2), 023052. https://doi.org/10.1088/1367-2630/17/2/023052\n",
    "\n",
    "and:\n",
    "\n",
    "> [2] Vallarano, N., Bruno, M., Marchese, E., Trapani, G., Saracco, F., Cimini, G., Zanon, M., & Squartini, T. (2021). Fast and scalable likelihood maximization for Exponential Random Graph Models with local constraints. Scientific Reports, 11(1), 15227. https://doi.org/10.1038/s41598-021-93830-4\n",
    "\n",
    "\n"
   ]
  },
  {
   "cell_type": "code",
   "execution_count": 1,
   "id": "f913aa1b",
   "metadata": {},
   "outputs": [],
   "source": [
    "import random\n",
    "import numpy as np\n",
    "import igraph as ig\n",
    "from pathcensus.nullmodels import UBCM, UECM\n",
    "from pathcensus.utils import rowsums, relclose\n",
    "\n",
    "def add_random_weights(graph):\n",
    "    graph = graph.copy()\n",
    "    graph.es[\"weight\"] = np.random.randint(1, 11, (graph.ecount(),))\n",
    "    return graph\n",
    "\n",
    "def make_er_graph(n, dbar):\n",
    "    p = dbar / (n-1)\n",
    "    return ig.Graph.Erdos_Renyi(n, p=p, directed=False)\n",
    "\n",
    "def make_rgg(n, dbar):\n",
    "    radius = np.sqrt(dbar/(np.pi*(n-1)))\n",
    "    return ig.Graph.GRG(n, radius=radius, torus=True)\n",
    "\n",
    "# Global parameters\n",
    "# -----------------\n",
    "N_NODES   = 100     # number of nodes in random graphs\n",
    "KBAR      = 10      # expected average degree in random graphs\n",
    "RTOL      = 1e-1    # relative tolerance when comparing simulated and expected values\n",
    "N_SAMPLES = 1000    # number of samples using for stochastic testing of expectations"
   ]
  },
  {
   "cell_type": "markdown",
   "id": "dfa28229",
   "metadata": {},
   "source": [
    "## Undirected Binary Configuration Model (UBCM)\n",
    "\n",
    "This is a soft (canonical) configuration model for undirected, unweighted\n",
    "networks. It is defined in Sec. 3.1 and Eq. (8) in [1].\n",
    "\n",
    "For this model we will test whether node degrees are indeed reproduced\n",
    "in expectation, which is exactly what the model should do. We will test\n",
    "this on two small random graph with very different structure:\n",
    "\n",
    "1. Erdős–Rényi random graph\n",
    "2. Random geometric graph\n",
    "\n",
    "Both graphs will have $100$ nodes and average degrees equal to $10$ approximately."
   ]
  },
  {
   "cell_type": "markdown",
   "id": "b651e17d",
   "metadata": {},
   "source": [
    "### ER random graph"
   ]
  },
  {
   "cell_type": "code",
   "execution_count": 2,
   "id": "deefaa46",
   "metadata": {},
   "outputs": [
    {
     "data": {
      "text/plain": [
       "<pathcensus.nullmodels.ubcm.UBCM at 0x7efc22877be0>"
      ]
     },
     "execution_count": 2,
     "metadata": {},
     "output_type": "execute_result"
    }
   ],
   "source": [
    "random.seed(303)\n",
    "\n",
    "graph  = make_er_graph(N_NODES, KBAR)\n",
    "degseq = np.array(graph.degree())\n",
    "\n",
    "ubcm = UBCM(graph)\n",
    "ubcm.fit()"
   ]
  },
  {
   "cell_type": "code",
   "execution_count": 3,
   "id": "f976d48e",
   "metadata": {},
   "outputs": [
    {
     "data": {
      "text/plain": [
       "True"
      ]
     },
     "execution_count": 3,
     "metadata": {},
     "output_type": "execute_result"
    }
   ],
   "source": [
    "## TEST ANALYTICAL EXPECTED DEGREES\n",
    "relclose(ubcm.ED, degseq, rtol=RTOL)"
   ]
  },
  {
   "cell_type": "code",
   "execution_count": 4,
   "id": "ba3c02c1",
   "metadata": {},
   "outputs": [
    {
     "data": {
      "text/plain": [
       "True"
      ]
     },
     "execution_count": 4,
     "metadata": {},
     "output_type": "execute_result"
    }
   ],
   "source": [
    "## TEST EXPECTATION THROUGH SAMPLING\n",
    "expected = np.zeros_like(degseq, dtype=float)\n",
    "\n",
    "for randomized in ubcm.sample(N_SAMPLES):\n",
    "    # Sample graph realizations are adjacency matrices\n",
    "    expected += rowsums(randomized)\n",
    "\n",
    "expected = expected / N_SAMPLES\n",
    "\n",
    "relclose(expected, degseq, rtol=RTOL) "
   ]
  },
  {
   "cell_type": "markdown",
   "id": "7086d2de",
   "metadata": {},
   "source": [
    "### Random geometric graph"
   ]
  },
  {
   "cell_type": "code",
   "execution_count": 5,
   "id": "67e2aec4",
   "metadata": {},
   "outputs": [
    {
     "data": {
      "text/plain": [
       "<pathcensus.nullmodels.ubcm.UBCM at 0x7efbd9d966e0>"
      ]
     },
     "execution_count": 5,
     "metadata": {},
     "output_type": "execute_result"
    }
   ],
   "source": [
    "random.seed(304)\n",
    "\n",
    "graph  = make_rgg(N_NODES, KBAR)\n",
    "degseq = np.array(graph.degree())\n",
    "\n",
    "ubcm = UBCM(graph)\n",
    "ubcm.fit()"
   ]
  },
  {
   "cell_type": "code",
   "execution_count": 6,
   "id": "55ee4fed",
   "metadata": {},
   "outputs": [
    {
     "data": {
      "text/plain": [
       "True"
      ]
     },
     "execution_count": 6,
     "metadata": {},
     "output_type": "execute_result"
    }
   ],
   "source": [
    "## TEST ANALYTICAL EXPECTED DEGREES\n",
    "relclose(ubcm.ED, degseq, rtol=RTOL)"
   ]
  },
  {
   "cell_type": "code",
   "execution_count": 7,
   "id": "f8d8c329",
   "metadata": {},
   "outputs": [
    {
     "data": {
      "text/plain": [
       "True"
      ]
     },
     "execution_count": 7,
     "metadata": {},
     "output_type": "execute_result"
    }
   ],
   "source": [
    "## TEST EXPECTATION THROUGH SAMPLING\n",
    "expected = np.zeros_like(degseq, dtype=float)\n",
    "\n",
    "for randomized in ubcm.sample(N_SAMPLES):\n",
    "    # Sample graph realizations are adjacency matrices\n",
    "    expected += rowsums(randomized)\n",
    "\n",
    "expected = expected / N_SAMPLES\n",
    "\n",
    "relclose(expected, degseq, rtol=RTOL) "
   ]
  },
  {
   "cell_type": "markdown",
   "id": "c4ffcdff",
   "metadata": {},
   "source": [
    "## Undirected Enhanced Configuration Model\n",
    "\n",
    "This null model constrains both expected degree sequence and strength\n",
    "sequence. We test it again against ER and RGG networks, but this time\n",
    "we also add random edge weights between $1$ and $10$.\n",
    "\n",
    "### ER random graph"
   ]
  },
  {
   "cell_type": "code",
   "execution_count": 8,
   "id": "142ef11e",
   "metadata": {},
   "outputs": [
    {
     "data": {
      "text/plain": [
       "<pathcensus.nullmodels.uecm.UECM at 0x7efbd9ce2470>"
      ]
     },
     "execution_count": 8,
     "metadata": {},
     "output_type": "execute_result"
    }
   ],
   "source": [
    "random.seed(305)\n",
    "\n",
    "graph = make_er_graph(N_NODES, KBAR)\n",
    "graph = add_random_weights(graph)\n",
    "D     = np.array(graph.degree())\n",
    "S     = np.array(graph.strength(weights=\"weight\"))\n",
    "\n",
    "uecm = UECM(graph)\n",
    "uecm.fit()"
   ]
  },
  {
   "cell_type": "code",
   "execution_count": 9,
   "id": "bf60309d",
   "metadata": {},
   "outputs": [
    {
     "data": {
      "text/plain": [
       "True"
      ]
     },
     "execution_count": 9,
     "metadata": {},
     "output_type": "execute_result"
    }
   ],
   "source": [
    "## TEST ANALYTICAL EXPECTED DEGREES\n",
    "relclose(uecm.ED, D, rtol=RTOL)"
   ]
  },
  {
   "cell_type": "code",
   "execution_count": 10,
   "id": "74b04ce7",
   "metadata": {},
   "outputs": [
    {
     "data": {
      "text/plain": [
       "True"
      ]
     },
     "execution_count": 10,
     "metadata": {},
     "output_type": "execute_result"
    }
   ],
   "source": [
    "## TEST EXPECTATION THROUGH SAMPLING\n",
    "expected = np.zeros_like(degseq, dtype=float)\n",
    "\n",
    "for randomized in uecm.sample(N_SAMPLES):\n",
    "    # Sample graph realizations are adjacency matrices\n",
    "    randomized.data[:] = 1\n",
    "    expected += rowsums(randomized)\n",
    "\n",
    "expected = expected / N_SAMPLES\n",
    "\n",
    "relclose(expected, D, rtol=RTOL) "
   ]
  },
  {
   "cell_type": "code",
   "execution_count": 11,
   "id": "0b7cbd26",
   "metadata": {},
   "outputs": [
    {
     "data": {
      "text/plain": [
       "True"
      ]
     },
     "execution_count": 11,
     "metadata": {},
     "output_type": "execute_result"
    }
   ],
   "source": [
    "## TEST ANALYTICAL EXPECTED STRENGTHS\n",
    "relclose(uecm.ES, S, rtol=RTOL)"
   ]
  },
  {
   "cell_type": "code",
   "execution_count": 12,
   "id": "5a0afe4c",
   "metadata": {},
   "outputs": [
    {
     "data": {
      "text/plain": [
       "True"
      ]
     },
     "execution_count": 12,
     "metadata": {},
     "output_type": "execute_result"
    }
   ],
   "source": [
    "## TEST EXPECTATION THROUGH SAMPLING\n",
    "expected = np.zeros_like(degseq, dtype=float)\n",
    "\n",
    "for randomized in uecm.sample(N_SAMPLES):\n",
    "    # Sample graph realizations are adjacency matrices\n",
    "    expected += rowsums(randomized)\n",
    "\n",
    "expected = expected / N_SAMPLES\n",
    "\n",
    "relclose(expected, S, rtol=RTOL) "
   ]
  },
  {
   "cell_type": "markdown",
   "id": "3936b637",
   "metadata": {},
   "source": [
    "### Random geometric graph"
   ]
  },
  {
   "cell_type": "code",
   "execution_count": 13,
   "id": "ae9c09e1",
   "metadata": {},
   "outputs": [
    {
     "data": {
      "text/plain": [
       "<pathcensus.nullmodels.uecm.UECM at 0x7efbd9a6ee60>"
      ]
     },
     "execution_count": 13,
     "metadata": {},
     "output_type": "execute_result"
    }
   ],
   "source": [
    "random.seed(306)\n",
    "\n",
    "graph = make_rgg(N_NODES, KBAR)\n",
    "graph = add_random_weights(graph)\n",
    "D     = np.array(graph.degree())\n",
    "S     = np.array(graph.strength(weights=\"weight\"))\n",
    "\n",
    "uecm = UECM(graph)\n",
    "uecm.fit()"
   ]
  },
  {
   "cell_type": "code",
   "execution_count": 14,
   "id": "84e7e266",
   "metadata": {},
   "outputs": [
    {
     "data": {
      "text/plain": [
       "True"
      ]
     },
     "execution_count": 14,
     "metadata": {},
     "output_type": "execute_result"
    }
   ],
   "source": [
    "## TEST ANALYTICAL EXPECTED DEGREES\n",
    "relclose(uecm.ED, D, rtol=RTOL)"
   ]
  },
  {
   "cell_type": "code",
   "execution_count": 15,
   "id": "1b222781",
   "metadata": {},
   "outputs": [
    {
     "data": {
      "text/plain": [
       "True"
      ]
     },
     "execution_count": 15,
     "metadata": {},
     "output_type": "execute_result"
    }
   ],
   "source": [
    "## TEST EXPECTATION THROUGH SAMPLING\n",
    "expected = np.zeros_like(degseq, dtype=float)\n",
    "\n",
    "for randomized in uecm.sample(N_SAMPLES):\n",
    "    # Sample graph realizations are adjacency matrices\n",
    "    randomized.data[:] = 1\n",
    "    expected += rowsums(randomized)\n",
    "\n",
    "expected = expected / N_SAMPLES\n",
    "\n",
    "relclose(expected, D, rtol=RTOL) "
   ]
  },
  {
   "cell_type": "code",
   "execution_count": 16,
   "id": "c1acefc4",
   "metadata": {},
   "outputs": [
    {
     "data": {
      "text/plain": [
       "True"
      ]
     },
     "execution_count": 16,
     "metadata": {},
     "output_type": "execute_result"
    }
   ],
   "source": [
    "## TEST ANALYTICAL EXPECTED STRENGTHS\n",
    "relclose(uecm.ES, S, rtol=RTOL)"
   ]
  },
  {
   "cell_type": "code",
   "execution_count": 17,
   "id": "951cd4df",
   "metadata": {},
   "outputs": [
    {
     "data": {
      "text/plain": [
       "True"
      ]
     },
     "execution_count": 17,
     "metadata": {},
     "output_type": "execute_result"
    }
   ],
   "source": [
    "## TEST EXPECTATION THROUGH SAMPLING\n",
    "expected = np.zeros_like(degseq, dtype=float)\n",
    "\n",
    "for randomized in uecm.sample(N_SAMPLES):\n",
    "    # Sample graph realizations are adjacency matrices\n",
    "    expected += rowsums(randomized)\n",
    "\n",
    "expected = expected / N_SAMPLES\n",
    "\n",
    "relclose(expected, S, rtol=RTOL) "
   ]
  }
 ],
 "metadata": {
  "interpreter": {
   "hash": "8e0900f3da58897fd209d64081d3031deeb7de3d74b04d540bcaacc585fcac50"
  },
  "kernelspec": {
   "display_name": "Python 3.9.7 64-bit ('ssc-paper': conda)",
   "name": "python3"
  },
  "language_info": {
   "codemirror_mode": {
    "name": "ipython",
    "version": 3
   },
   "file_extension": ".py",
   "mimetype": "text/x-python",
   "name": "python",
   "nbconvert_exporter": "python",
   "pygments_lexer": "ipython3",
   "version": "3.10.2"
  },
  "orig_nbformat": 3
 },
 "nbformat": 4,
 "nbformat_minor": 5
}
